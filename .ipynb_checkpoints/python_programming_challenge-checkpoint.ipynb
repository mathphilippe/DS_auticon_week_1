{
 "cells": [
  {
   "cell_type": "markdown",
   "metadata": {},
   "source": [
    "## Poker Hand\n",
    "\n",
    "In this challenge, we have to find out which kind of Poker combination is present in a deck of 5 cards.Every card is a string containing the card value (with the upper-case initial for face-cards) and the lower-case initial for suits, as in the examples below:\n",
    "\n",
    "> \"Ah\" ➞ Ace of hearts <br>\n",
    "> \"Ks\" ➞ King of spades<br>\n",
    "> \"3d\" ➞ Three of diamonds<br>\n",
    "> \"Qc\" ➞ Queen of clubs <br>\n",
    "\n",
    "There are 10 different combinations. Here's the list, in decreasing order of importance:"
   ]
  },
  {
   "cell_type": "markdown",
   "metadata": {},
   "source": [
    "| Name            | Description                                         |\n",
    "|-----------------|-----------------------------------------------------|\n",
    "| Royal Flush     | A, K, Q, J, 10, all with the same suit.             |\n",
    "| Straight Flush  | Five cards in sequence, all with the same suit.     |\n",
    "| Four of a Kind  | Four cards of the same rank.                        |\n",
    "| Full House      | Three of a Kind with a Pair.                        |\n",
    "| Flush           | Any five cards of the same suit, not in sequence    |\n",
    "| Straight        | Five cards in a sequence, but not of the same suit. |\n",
    "| Three of a Kind | Three cards of the same rank.                       |\n",
    "| Two Pair        | Two different Pairs.                                |\n",
    "| Pair            | Two cards of the same rank.                         |\n",
    "| High Card       | No other valid combination.                         |"
   ]
  },
  {
   "cell_type": "markdown",
   "metadata": {},
   "source": [
    "### 1. Given a list `hand` containing five strings being the cards, implement a function `poker_hand_ranking` that returns a string with the name of the **highest** combination obtained, accordingly to the table above.\n",
    "\n",
    "#### Examples\n",
    "\n",
    "> poker_hand_ranking([\"10h\", \"Jh\", \"Qh\", \"Ah\", \"Kh\"]) ➞ \"Royal Flush\"<br>\n",
    "> poker_hand_ranking([\"3h\", \"5h\", \"Qs\", \"9h\", \"Ad\"]) ➞ \"High Card\"<br>\n",
    "> poker_hand_ranking([\"10s\", \"10c\", \"8d\", \"10d\", \"10h\"]) ➞ \"Four of a Kind\"<br>"
   ]
  },
  {
   "cell_type": "code",
   "execution_count": 1,
   "metadata": {},
   "outputs": [],
   "source": [
    "def poker_hand_ranking(hand):\n",
    "    \n",
    "    # We begin by separating suits and ranks in separate lists to make it easier to analyze\n",
    "    rank_dict = {\"2\": 2, \"3\": 3, \"4\": 4, \"5\": 5, \"6\": 6, \"7\": 7, \"8\": 8, \"9\": 9, \"10\": 10, \"J\": 11, \"Q\": 12, \"K\": 13, \"A\": 14}\n",
    "    suits = [k[-1] for k in hand]\n",
    "    temp_ranks = [rank_dict[k[:-1]] for k in hand]\n",
    "    ranks = sorted(temp_ranks)\n",
    "    \n",
    "    # We proceed to establish if there is the presence of pairs, trios or quatuors in the hand\n",
    "    pair = []\n",
    "    three_of_a_kind = False\n",
    "    for k in ranks:\n",
    "        if ranks.count(k) == 2: pair.append(k)\n",
    "        if ranks.count(k) == 3: three_of_a_kind = True\n",
    "        if ranks.count(k) == 4: return \"Four of a Kind\"\n",
    "        \n",
    "    # Next, if the four of a kind is not obtained, we check to see if we have one pair, two pairs, a three of a kind, a full \n",
    "    # house or none of these in the hand.\n",
    "    if three_of_a_kind == True and len(pair) == 1: return \"Full House\"\n",
    "    elif three_of_a_kind == True and len(pair) == 0: return \"Three of a Kind\"\n",
    "    elif len(pair) == 2: return \"Two Pair\"\n",
    "    elif len(pair) == 1: return \"Pair\"\n",
    "    else: pass\n",
    "    \n",
    "    # If none of the above applied, then it is either a straight, a flush, a derivative of these two things or a high card\n",
    "    flush = False\n",
    "    count_flush = 0\n",
    "    for k in range(len(suits)):\n",
    "        if suits[k] == suits[0]:\n",
    "            count_flush += 1\n",
    "    if count_flush == 5:\n",
    "        flush = True\n",
    "    \n",
    "    straight = False\n",
    "    count_straight = 0\n",
    "    for k in range(len(ranks) - 1):\n",
    "        if (ranks[k] + 1) == ranks[k + 1]:\n",
    "            count_straight += 1\n",
    "    if count_straight == 4:\n",
    "        straight = True\n",
    "            \n",
    "    if flush == True and straight == False: return \"Flush\"\n",
    "    elif flush == False and straight == True: return \"Straight\"\n",
    "    elif flush == True and straight == True and ranks[0] == 10: return \"Royal Flush\"\n",
    "    elif flush == True and straight == True and rank[0] != 10: return \"Straight Flush\"\n",
    "    else: return \"High Card\""
   ]
  },
  {
   "cell_type": "markdown",
   "metadata": {},
   "source": [
    "# STRETCH"
   ]
  },
  {
   "cell_type": "markdown",
   "metadata": {},
   "source": [
    "### 2. Implement a function `winner_is` that returns the winner given a dictionary with different players and their hands. For example:\n",
    "\n",
    "#### Example\n",
    "\n",
    "We define dictionary like\n",
    "```\n",
    "round_1 = {\"John\" = [\"10h\", \"Jh\", \"Qh\", \"Ah\", \"Kh\"], \n",
    "        \"Peter\" = [\"3h\", \"5h\", \"Qs\", \"9h\", \"Ad\"]\n",
    "}\n",
    "```\n",
    "\n",
    "Our function returns the name of the winner:\n",
    "> winner_is(round_1) -> \"John\"\n",
    "\n",
    "One table can have up to 10 players.\n"
   ]
  },
  {
   "cell_type": "code",
   "execution_count": null,
   "metadata": {},
   "outputs": [],
   "source": []
  },
  {
   "cell_type": "code",
   "execution_count": null,
   "metadata": {},
   "outputs": [],
   "source": []
  },
  {
   "cell_type": "code",
   "execution_count": null,
   "metadata": {},
   "outputs": [],
   "source": []
  },
  {
   "cell_type": "markdown",
   "metadata": {},
   "source": [
    "### 3. Create a generator that randomly gives 5 cards to every player given a list of player names\n",
    "#### Example\n",
    "\n",
    "> distribute_cards([\"John\",\"Peter\"])  -> round_1 = {\"John\" = [\"10h\", \"Jh\", \"Qh\", \"Ah\", \"Kh\"], \n",
    "        \"Peter\" = [\"3h\", \"5h\", \"Qs\", \"9h\", \"Ad\"]\n",
    "}"
   ]
  },
  {
   "cell_type": "code",
   "execution_count": null,
   "metadata": {},
   "outputs": [],
   "source": []
  },
  {
   "cell_type": "code",
   "execution_count": null,
   "metadata": {},
   "outputs": [],
   "source": []
  },
  {
   "cell_type": "code",
   "execution_count": null,
   "metadata": {},
   "outputs": [],
   "source": []
  },
  {
   "cell_type": "code",
   "execution_count": null,
   "metadata": {},
   "outputs": [],
   "source": []
  }
 ],
 "metadata": {
  "kernelspec": {
   "display_name": "Python 3",
   "language": "python",
   "name": "python3"
  },
  "language_info": {
   "codemirror_mode": {
    "name": "ipython",
    "version": 3
   },
   "file_extension": ".py",
   "mimetype": "text/x-python",
   "name": "python",
   "nbconvert_exporter": "python",
   "pygments_lexer": "ipython3",
   "version": "3.8.3"
  }
 },
 "nbformat": 4,
 "nbformat_minor": 4
}
