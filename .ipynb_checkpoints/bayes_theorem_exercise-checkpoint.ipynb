{
 "cells": [
  {
   "cell_type": "markdown",
   "metadata": {
    "ExecuteTime": {
     "end_time": "2020-02-05T17:56:20.532960Z",
     "start_time": "2020-02-05T17:56:20.525450Z"
    }
   },
   "source": [
    "## Bayes Theorem: Exercise\n",
    "\n",
    "A diagnostic test has a probability 0.95 of giving a positive result when applied to a person suffering\n",
    "from a certain disease, and a probability 0.10 of giving a (false) positive when applied to a non-sufferer. It is\n",
    "estimated that 0.5 % of the population are sufferers. Suppose that the test is now administered to a person about\n",
    "whom we have no relevant information relating to the disease (apart from the fact that he/she comes from this\n",
    "population). \n",
    "\n",
    "Calculate the following probabilities:\n",
    "- **(a)** that the test result will be positive;\n",
    "- **(b)** that, given a positive result, the person is a sufferer;\n",
    "- **(c)** that, given a negative result, the person is a non-sufferer;\n",
    "- **(d)** that the person will be misclassified.\n",
    "\n",
    "Use following notation:\n",
    "\n",
    "T = test positive <br>\n",
    "NT = test negative<br>\n",
    "S = sufferer<br>\n",
    "NS = non-sufferer<br>\n",
    "M = misclassified<br>\n",
    "\n",
    "Solve it by two approaches:\n",
    "1. Arithmetically (similarly tu earlier tutorial)\n",
    "2. By simulation (run the test 10000 times and compute the probabilities)"
   ]
  },
  {
   "cell_type": "code",
   "execution_count": 1,
   "metadata": {},
   "outputs": [
    {
     "name": "stdout",
     "output_type": "stream",
     "text": [
      "0.525\n",
      "0.9047619047619047\n",
      "0.9473684210526316\n",
      "0.07393483709273185\n"
     ]
    }
   ],
   "source": [
    "# This part is solving it using the arithmetic approach\n",
    "\n",
    "prob_S = 0.5 # Then prob_NS = 0.5 and thus we'll just use prob_S\n",
    "prob_T_S = 0.95\n",
    "prob_T_NS = 0.1\n",
    "\n",
    "# Part (a)\n",
    "prob_T = prob_S * (prob_T_S + prob_T_NS)\n",
    "print(prob_T)\n",
    "\n",
    "# Part (b)\n",
    "prob_S_T = (prob_S * prob_T_S) / (prob_T)\n",
    "print(prob_S_T)\n",
    "\n",
    "# Part (c)\n",
    "prob_NS_NT = (prob_S * (1 - prob_T_NS)) / (1 - prob_T)\n",
    "print(prob_NS_NT)\n",
    "\n",
    "# Part (d)\n",
    "prob_M = 1 - (prob_S * (prob_S_T + prob_NS_NT))\n",
    "print(prob_M)"
   ]
  },
  {
   "cell_type": "code",
   "execution_count": 12,
   "metadata": {},
   "outputs": [
    {
     "name": "stdout",
     "output_type": "stream",
     "text": [
      "5044\n",
      "4789\n",
      "501\n"
     ]
    }
   ],
   "source": [
    "# This part will run a simulation test 10000 times to obtain the data from which we shall calculate the required probabilities\n",
    "import scipy.stats as st\n",
    "import numpy as np\n",
    "np.random.seed(314158)\n",
    "\n",
    "dist = st.bernoulli(p = 0.5)\n",
    "dist_T_S = st.bernoulli(p = 0.95)\n",
    "dist_T_NS = st.bernoulli(p = 0.1)\n",
    "\n",
    "x = dist.rvs(10000)\n",
    "count_S = np.sum(x, None)\n",
    "print(count_S)\n",
    "x_T_S = dist_T_S.rvs(count_S)\n",
    "count_T_S = np.sum(x_T_S, None)\n",
    "print(count_T_S)\n",
    "x_T_NS = dist_T_NS.rvs(10000 - count_S)\n",
    "count_T_NS = np.sum(x_T_NS, None)\n",
    "print(count_T_NS)"
   ]
  },
  {
   "cell_type": "code",
   "execution_count": 17,
   "metadata": {},
   "outputs": [
    {
     "name": "stdout",
     "output_type": "stream",
     "text": [
      "0.529\n",
      "0.9052930056710775\n",
      "0.945859872611465\n",
      "0.0756\n"
     ]
    }
   ],
   "source": [
    "# Finally, let us calculate these probabilities\n",
    "\n",
    "# Part (a)\n",
    "prob_T = (count_T_S + count_T_NS)/10000\n",
    "print(prob_T)\n",
    "\n",
    "# Part (b)\n",
    "prob_S_T = (count_T_S)/(count_T_S + count_T_NS)\n",
    "print(prob_S_T)\n",
    "\n",
    "# Part (c)\n",
    "count_NS = 10000 - count_S\n",
    "count_NT_S = count_S - count_T_S\n",
    "count_NT_NS = count_NS - count_T_NS\n",
    "prob_NS_NT = (count_NT_NS)/(count_NT_NS + count_NT_S)\n",
    "print(prob_NS_NT)\n",
    "\n",
    "# Part (d)\n",
    "prob_M = (count_T_NS + count_NT_S)/10000\n",
    "print(prob_M)"
   ]
  }
 ],
 "metadata": {
  "kernelspec": {
   "display_name": "Python 3",
   "language": "python",
   "name": "python3"
  },
  "language_info": {
   "codemirror_mode": {
    "name": "ipython",
    "version": 3
   },
   "file_extension": ".py",
   "mimetype": "text/x-python",
   "name": "python",
   "nbconvert_exporter": "python",
   "pygments_lexer": "ipython3",
   "version": "3.8.3"
  },
  "toc": {
   "base_numbering": 1,
   "nav_menu": {},
   "number_sections": true,
   "sideBar": true,
   "skip_h1_title": false,
   "title_cell": "Table of Contents",
   "title_sidebar": "Contents",
   "toc_cell": false,
   "toc_position": {},
   "toc_section_display": true,
   "toc_window_display": false
  },
  "varInspector": {
   "cols": {
    "lenName": 16,
    "lenType": 16,
    "lenVar": 40
   },
   "kernels_config": {
    "python": {
     "delete_cmd_postfix": "",
     "delete_cmd_prefix": "del ",
     "library": "var_list.py",
     "varRefreshCmd": "print(var_dic_list())"
    },
    "r": {
     "delete_cmd_postfix": ") ",
     "delete_cmd_prefix": "rm(",
     "library": "var_list.r",
     "varRefreshCmd": "cat(var_dic_list()) "
    }
   },
   "types_to_exclude": [
    "module",
    "function",
    "builtin_function_or_method",
    "instance",
    "_Feature"
   ],
   "window_display": false
  }
 },
 "nbformat": 4,
 "nbformat_minor": 4
}
